{
 "cells": [
  {
   "cell_type": "code",
   "execution_count": 1,
   "metadata": {
    "collapsed": true
   },
   "outputs": [],
   "source": [
    "import pandas as pd\n",
    "import numpy as np\n"
   ]
  },
  {
   "cell_type": "code",
   "execution_count": 2,
   "outputs": [],
   "source": [
    "group=['x','y','z']\n",
    "\n",
    "data1=pd.DataFrame({\n",
    "    'group':[group[x] for x in np.random.randint(0,len(group),10)],\n",
    "    'age':np.random.randint(15,50,10)\n",
    "})\n",
    "\n",
    "data2=pd.DataFrame({\n",
    "    'group':[group[x] for x in np.random.randint(0,len(group),10)],\n",
    "    'salary':np.random.randint(5,50,10)\n",
    "})\n",
    "\n",
    "data3=pd.DataFrame({\n",
    "    'group':[group[x] for x in np.random.randint(0,len(group),10)],\n",
    "    'age':np.random.randint(15,50,10),\n",
    "    'salary':np.random.randint(5,50,10)\n",
    "})"
   ],
   "metadata": {
    "collapsed": false,
    "pycharm": {
     "name": "#%%\n"
    }
   }
  },
  {
   "cell_type": "code",
   "execution_count": 3,
   "outputs": [
    {
     "data": {
      "text/plain": "  group  age\n0     y   45\n1     x   36\n2     y   17\n3     x   25\n4     z   42\n5     x   34\n6     x   26\n7     y   37\n8     x   44\n9     x   49",
      "text/html": "<div>\n<style scoped>\n    .dataframe tbody tr th:only-of-type {\n        vertical-align: middle;\n    }\n\n    .dataframe tbody tr th {\n        vertical-align: top;\n    }\n\n    .dataframe thead th {\n        text-align: right;\n    }\n</style>\n<table border=\"1\" class=\"dataframe\">\n  <thead>\n    <tr style=\"text-align: right;\">\n      <th></th>\n      <th>group</th>\n      <th>age</th>\n    </tr>\n  </thead>\n  <tbody>\n    <tr>\n      <th>0</th>\n      <td>y</td>\n      <td>45</td>\n    </tr>\n    <tr>\n      <th>1</th>\n      <td>x</td>\n      <td>36</td>\n    </tr>\n    <tr>\n      <th>2</th>\n      <td>y</td>\n      <td>17</td>\n    </tr>\n    <tr>\n      <th>3</th>\n      <td>x</td>\n      <td>25</td>\n    </tr>\n    <tr>\n      <th>4</th>\n      <td>z</td>\n      <td>42</td>\n    </tr>\n    <tr>\n      <th>5</th>\n      <td>x</td>\n      <td>34</td>\n    </tr>\n    <tr>\n      <th>6</th>\n      <td>x</td>\n      <td>26</td>\n    </tr>\n    <tr>\n      <th>7</th>\n      <td>y</td>\n      <td>37</td>\n    </tr>\n    <tr>\n      <th>8</th>\n      <td>x</td>\n      <td>44</td>\n    </tr>\n    <tr>\n      <th>9</th>\n      <td>x</td>\n      <td>49</td>\n    </tr>\n  </tbody>\n</table>\n</div>"
     },
     "execution_count": 3,
     "metadata": {},
     "output_type": "execute_result"
    }
   ],
   "source": [
    "data1"
   ],
   "metadata": {
    "collapsed": false,
    "pycharm": {
     "name": "#%%\n"
    }
   }
  },
  {
   "cell_type": "code",
   "execution_count": 4,
   "outputs": [
    {
     "data": {
      "text/plain": "  group  salary\n0     x      18\n1     z      22\n2     z      47\n3     z      33\n4     x      41\n5     z      10\n6     y      42\n7     x      30\n8     z       7\n9     z      30",
      "text/html": "<div>\n<style scoped>\n    .dataframe tbody tr th:only-of-type {\n        vertical-align: middle;\n    }\n\n    .dataframe tbody tr th {\n        vertical-align: top;\n    }\n\n    .dataframe thead th {\n        text-align: right;\n    }\n</style>\n<table border=\"1\" class=\"dataframe\">\n  <thead>\n    <tr style=\"text-align: right;\">\n      <th></th>\n      <th>group</th>\n      <th>salary</th>\n    </tr>\n  </thead>\n  <tbody>\n    <tr>\n      <th>0</th>\n      <td>x</td>\n      <td>18</td>\n    </tr>\n    <tr>\n      <th>1</th>\n      <td>z</td>\n      <td>22</td>\n    </tr>\n    <tr>\n      <th>2</th>\n      <td>z</td>\n      <td>47</td>\n    </tr>\n    <tr>\n      <th>3</th>\n      <td>z</td>\n      <td>33</td>\n    </tr>\n    <tr>\n      <th>4</th>\n      <td>x</td>\n      <td>41</td>\n    </tr>\n    <tr>\n      <th>5</th>\n      <td>z</td>\n      <td>10</td>\n    </tr>\n    <tr>\n      <th>6</th>\n      <td>y</td>\n      <td>42</td>\n    </tr>\n    <tr>\n      <th>7</th>\n      <td>x</td>\n      <td>30</td>\n    </tr>\n    <tr>\n      <th>8</th>\n      <td>z</td>\n      <td>7</td>\n    </tr>\n    <tr>\n      <th>9</th>\n      <td>z</td>\n      <td>30</td>\n    </tr>\n  </tbody>\n</table>\n</div>"
     },
     "execution_count": 4,
     "metadata": {},
     "output_type": "execute_result"
    }
   ],
   "source": [
    "data2"
   ],
   "metadata": {
    "collapsed": false,
    "pycharm": {
     "name": "#%%\n"
    }
   }
  },
  {
   "cell_type": "code",
   "execution_count": 6,
   "outputs": [
    {
     "data": {
      "text/plain": "  group  age  salary\n0     z   19      17\n1     y   29      11\n2     x   18      48\n3     x   22       6\n4     x   49      11\n5     x   32      46\n6     z   36      20\n7     y   32      12\n8     y   40      20\n9     y   20      38",
      "text/html": "<div>\n<style scoped>\n    .dataframe tbody tr th:only-of-type {\n        vertical-align: middle;\n    }\n\n    .dataframe tbody tr th {\n        vertical-align: top;\n    }\n\n    .dataframe thead th {\n        text-align: right;\n    }\n</style>\n<table border=\"1\" class=\"dataframe\">\n  <thead>\n    <tr style=\"text-align: right;\">\n      <th></th>\n      <th>group</th>\n      <th>age</th>\n      <th>salary</th>\n    </tr>\n  </thead>\n  <tbody>\n    <tr>\n      <th>0</th>\n      <td>z</td>\n      <td>19</td>\n      <td>17</td>\n    </tr>\n    <tr>\n      <th>1</th>\n      <td>y</td>\n      <td>29</td>\n      <td>11</td>\n    </tr>\n    <tr>\n      <th>2</th>\n      <td>x</td>\n      <td>18</td>\n      <td>48</td>\n    </tr>\n    <tr>\n      <th>3</th>\n      <td>x</td>\n      <td>22</td>\n      <td>6</td>\n    </tr>\n    <tr>\n      <th>4</th>\n      <td>x</td>\n      <td>49</td>\n      <td>11</td>\n    </tr>\n    <tr>\n      <th>5</th>\n      <td>x</td>\n      <td>32</td>\n      <td>46</td>\n    </tr>\n    <tr>\n      <th>6</th>\n      <td>z</td>\n      <td>36</td>\n      <td>20</td>\n    </tr>\n    <tr>\n      <th>7</th>\n      <td>y</td>\n      <td>32</td>\n      <td>12</td>\n    </tr>\n    <tr>\n      <th>8</th>\n      <td>y</td>\n      <td>40</td>\n      <td>20</td>\n    </tr>\n    <tr>\n      <th>9</th>\n      <td>y</td>\n      <td>20</td>\n      <td>38</td>\n    </tr>\n  </tbody>\n</table>\n</div>"
     },
     "execution_count": 6,
     "metadata": {},
     "output_type": "execute_result"
    }
   ],
   "source": [
    "data3"
   ],
   "metadata": {
    "collapsed": false,
    "pycharm": {
     "name": "#%%\n"
    }
   }
  },
  {
   "cell_type": "code",
   "execution_count": 7,
   "outputs": [
    {
     "data": {
      "text/plain": "   group  age  salary\n0      y   45      42\n1      y   17      42\n2      y   37      42\n3      x   36      18\n4      x   36      41\n5      x   36      30\n6      x   25      18\n7      x   25      41\n8      x   25      30\n9      x   34      18\n10     x   34      41\n11     x   34      30\n12     x   26      18\n13     x   26      41\n14     x   26      30\n15     x   44      18\n16     x   44      41\n17     x   44      30\n18     x   49      18\n19     x   49      41\n20     x   49      30\n21     z   42      22\n22     z   42      47\n23     z   42      33\n24     z   42      10\n25     z   42       7\n26     z   42      30",
      "text/html": "<div>\n<style scoped>\n    .dataframe tbody tr th:only-of-type {\n        vertical-align: middle;\n    }\n\n    .dataframe tbody tr th {\n        vertical-align: top;\n    }\n\n    .dataframe thead th {\n        text-align: right;\n    }\n</style>\n<table border=\"1\" class=\"dataframe\">\n  <thead>\n    <tr style=\"text-align: right;\">\n      <th></th>\n      <th>group</th>\n      <th>age</th>\n      <th>salary</th>\n    </tr>\n  </thead>\n  <tbody>\n    <tr>\n      <th>0</th>\n      <td>y</td>\n      <td>45</td>\n      <td>42</td>\n    </tr>\n    <tr>\n      <th>1</th>\n      <td>y</td>\n      <td>17</td>\n      <td>42</td>\n    </tr>\n    <tr>\n      <th>2</th>\n      <td>y</td>\n      <td>37</td>\n      <td>42</td>\n    </tr>\n    <tr>\n      <th>3</th>\n      <td>x</td>\n      <td>36</td>\n      <td>18</td>\n    </tr>\n    <tr>\n      <th>4</th>\n      <td>x</td>\n      <td>36</td>\n      <td>41</td>\n    </tr>\n    <tr>\n      <th>5</th>\n      <td>x</td>\n      <td>36</td>\n      <td>30</td>\n    </tr>\n    <tr>\n      <th>6</th>\n      <td>x</td>\n      <td>25</td>\n      <td>18</td>\n    </tr>\n    <tr>\n      <th>7</th>\n      <td>x</td>\n      <td>25</td>\n      <td>41</td>\n    </tr>\n    <tr>\n      <th>8</th>\n      <td>x</td>\n      <td>25</td>\n      <td>30</td>\n    </tr>\n    <tr>\n      <th>9</th>\n      <td>x</td>\n      <td>34</td>\n      <td>18</td>\n    </tr>\n    <tr>\n      <th>10</th>\n      <td>x</td>\n      <td>34</td>\n      <td>41</td>\n    </tr>\n    <tr>\n      <th>11</th>\n      <td>x</td>\n      <td>34</td>\n      <td>30</td>\n    </tr>\n    <tr>\n      <th>12</th>\n      <td>x</td>\n      <td>26</td>\n      <td>18</td>\n    </tr>\n    <tr>\n      <th>13</th>\n      <td>x</td>\n      <td>26</td>\n      <td>41</td>\n    </tr>\n    <tr>\n      <th>14</th>\n      <td>x</td>\n      <td>26</td>\n      <td>30</td>\n    </tr>\n    <tr>\n      <th>15</th>\n      <td>x</td>\n      <td>44</td>\n      <td>18</td>\n    </tr>\n    <tr>\n      <th>16</th>\n      <td>x</td>\n      <td>44</td>\n      <td>41</td>\n    </tr>\n    <tr>\n      <th>17</th>\n      <td>x</td>\n      <td>44</td>\n      <td>30</td>\n    </tr>\n    <tr>\n      <th>18</th>\n      <td>x</td>\n      <td>49</td>\n      <td>18</td>\n    </tr>\n    <tr>\n      <th>19</th>\n      <td>x</td>\n      <td>49</td>\n      <td>41</td>\n    </tr>\n    <tr>\n      <th>20</th>\n      <td>x</td>\n      <td>49</td>\n      <td>30</td>\n    </tr>\n    <tr>\n      <th>21</th>\n      <td>z</td>\n      <td>42</td>\n      <td>22</td>\n    </tr>\n    <tr>\n      <th>22</th>\n      <td>z</td>\n      <td>42</td>\n      <td>47</td>\n    </tr>\n    <tr>\n      <th>23</th>\n      <td>z</td>\n      <td>42</td>\n      <td>33</td>\n    </tr>\n    <tr>\n      <th>24</th>\n      <td>z</td>\n      <td>42</td>\n      <td>10</td>\n    </tr>\n    <tr>\n      <th>25</th>\n      <td>z</td>\n      <td>42</td>\n      <td>7</td>\n    </tr>\n    <tr>\n      <th>26</th>\n      <td>z</td>\n      <td>42</td>\n      <td>30</td>\n    </tr>\n  </tbody>\n</table>\n</div>"
     },
     "execution_count": 7,
     "metadata": {},
     "output_type": "execute_result"
    }
   ],
   "source": [
    "# 一对一\n",
    "\n",
    "pd.merge(data1,data2)"
   ],
   "metadata": {
    "collapsed": false,
    "pycharm": {
     "name": "#%%\n"
    }
   }
  },
  {
   "cell_type": "code",
   "execution_count": 8,
   "outputs": [
    {
     "data": {
      "text/plain": "   group  age  salary_x  salary_y\n0      z   19        17        22\n1      z   19        17        47\n2      z   19        17        33\n3      z   19        17        10\n4      z   19        17         7\n5      z   19        17        30\n6      z   36        20        22\n7      z   36        20        47\n8      z   36        20        33\n9      z   36        20        10\n10     z   36        20         7\n11     z   36        20        30\n12     y   29        11        42\n13     y   32        12        42\n14     y   40        20        42\n15     y   20        38        42\n16     x   18        48        18\n17     x   18        48        41\n18     x   18        48        30\n19     x   22         6        18\n20     x   22         6        41\n21     x   22         6        30\n22     x   49        11        18\n23     x   49        11        41\n24     x   49        11        30\n25     x   32        46        18\n26     x   32        46        41\n27     x   32        46        30",
      "text/html": "<div>\n<style scoped>\n    .dataframe tbody tr th:only-of-type {\n        vertical-align: middle;\n    }\n\n    .dataframe tbody tr th {\n        vertical-align: top;\n    }\n\n    .dataframe thead th {\n        text-align: right;\n    }\n</style>\n<table border=\"1\" class=\"dataframe\">\n  <thead>\n    <tr style=\"text-align: right;\">\n      <th></th>\n      <th>group</th>\n      <th>age</th>\n      <th>salary_x</th>\n      <th>salary_y</th>\n    </tr>\n  </thead>\n  <tbody>\n    <tr>\n      <th>0</th>\n      <td>z</td>\n      <td>19</td>\n      <td>17</td>\n      <td>22</td>\n    </tr>\n    <tr>\n      <th>1</th>\n      <td>z</td>\n      <td>19</td>\n      <td>17</td>\n      <td>47</td>\n    </tr>\n    <tr>\n      <th>2</th>\n      <td>z</td>\n      <td>19</td>\n      <td>17</td>\n      <td>33</td>\n    </tr>\n    <tr>\n      <th>3</th>\n      <td>z</td>\n      <td>19</td>\n      <td>17</td>\n      <td>10</td>\n    </tr>\n    <tr>\n      <th>4</th>\n      <td>z</td>\n      <td>19</td>\n      <td>17</td>\n      <td>7</td>\n    </tr>\n    <tr>\n      <th>5</th>\n      <td>z</td>\n      <td>19</td>\n      <td>17</td>\n      <td>30</td>\n    </tr>\n    <tr>\n      <th>6</th>\n      <td>z</td>\n      <td>36</td>\n      <td>20</td>\n      <td>22</td>\n    </tr>\n    <tr>\n      <th>7</th>\n      <td>z</td>\n      <td>36</td>\n      <td>20</td>\n      <td>47</td>\n    </tr>\n    <tr>\n      <th>8</th>\n      <td>z</td>\n      <td>36</td>\n      <td>20</td>\n      <td>33</td>\n    </tr>\n    <tr>\n      <th>9</th>\n      <td>z</td>\n      <td>36</td>\n      <td>20</td>\n      <td>10</td>\n    </tr>\n    <tr>\n      <th>10</th>\n      <td>z</td>\n      <td>36</td>\n      <td>20</td>\n      <td>7</td>\n    </tr>\n    <tr>\n      <th>11</th>\n      <td>z</td>\n      <td>36</td>\n      <td>20</td>\n      <td>30</td>\n    </tr>\n    <tr>\n      <th>12</th>\n      <td>y</td>\n      <td>29</td>\n      <td>11</td>\n      <td>42</td>\n    </tr>\n    <tr>\n      <th>13</th>\n      <td>y</td>\n      <td>32</td>\n      <td>12</td>\n      <td>42</td>\n    </tr>\n    <tr>\n      <th>14</th>\n      <td>y</td>\n      <td>40</td>\n      <td>20</td>\n      <td>42</td>\n    </tr>\n    <tr>\n      <th>15</th>\n      <td>y</td>\n      <td>20</td>\n      <td>38</td>\n      <td>42</td>\n    </tr>\n    <tr>\n      <th>16</th>\n      <td>x</td>\n      <td>18</td>\n      <td>48</td>\n      <td>18</td>\n    </tr>\n    <tr>\n      <th>17</th>\n      <td>x</td>\n      <td>18</td>\n      <td>48</td>\n      <td>41</td>\n    </tr>\n    <tr>\n      <th>18</th>\n      <td>x</td>\n      <td>18</td>\n      <td>48</td>\n      <td>30</td>\n    </tr>\n    <tr>\n      <th>19</th>\n      <td>x</td>\n      <td>22</td>\n      <td>6</td>\n      <td>18</td>\n    </tr>\n    <tr>\n      <th>20</th>\n      <td>x</td>\n      <td>22</td>\n      <td>6</td>\n      <td>41</td>\n    </tr>\n    <tr>\n      <th>21</th>\n      <td>x</td>\n      <td>22</td>\n      <td>6</td>\n      <td>30</td>\n    </tr>\n    <tr>\n      <th>22</th>\n      <td>x</td>\n      <td>49</td>\n      <td>11</td>\n      <td>18</td>\n    </tr>\n    <tr>\n      <th>23</th>\n      <td>x</td>\n      <td>49</td>\n      <td>11</td>\n      <td>41</td>\n    </tr>\n    <tr>\n      <th>24</th>\n      <td>x</td>\n      <td>49</td>\n      <td>11</td>\n      <td>30</td>\n    </tr>\n    <tr>\n      <th>25</th>\n      <td>x</td>\n      <td>32</td>\n      <td>46</td>\n      <td>18</td>\n    </tr>\n    <tr>\n      <th>26</th>\n      <td>x</td>\n      <td>32</td>\n      <td>46</td>\n      <td>41</td>\n    </tr>\n    <tr>\n      <th>27</th>\n      <td>x</td>\n      <td>32</td>\n      <td>46</td>\n      <td>30</td>\n    </tr>\n  </tbody>\n</table>\n</div>"
     },
     "execution_count": 8,
     "metadata": {},
     "output_type": "execute_result"
    }
   ],
   "source": [
    "# 多对一\n",
    "\n",
    "pd.merge(data3,data2,on='group')"
   ],
   "metadata": {
    "collapsed": false,
    "pycharm": {
     "name": "#%%\n"
    }
   }
  },
  {
   "cell_type": "code",
   "execution_count": 9,
   "outputs": [
    {
     "data": {
      "text/plain": "Empty DataFrame\nColumns: [group, age, salary]\nIndex: []",
      "text/html": "<div>\n<style scoped>\n    .dataframe tbody tr th:only-of-type {\n        vertical-align: middle;\n    }\n\n    .dataframe tbody tr th {\n        vertical-align: top;\n    }\n\n    .dataframe thead th {\n        text-align: right;\n    }\n</style>\n<table border=\"1\" class=\"dataframe\">\n  <thead>\n    <tr style=\"text-align: right;\">\n      <th></th>\n      <th>group</th>\n      <th>age</th>\n      <th>salary</th>\n    </tr>\n  </thead>\n  <tbody>\n  </tbody>\n</table>\n</div>"
     },
     "execution_count": 9,
     "metadata": {},
     "output_type": "execute_result"
    }
   ],
   "source": [
    "# 多对多\n",
    "pd.merge(data3,data2)"
   ],
   "metadata": {
    "collapsed": false,
    "pycharm": {
     "name": "#%%\n"
    }
   }
  },
  {
   "cell_type": "code",
   "execution_count": 10,
   "outputs": [
    {
     "data": {
      "text/plain": "  group_x  age  salary_x group_y  salary_y\n0       x   18        48       x        18\n1       x   22         6       z        22",
      "text/html": "<div>\n<style scoped>\n    .dataframe tbody tr th:only-of-type {\n        vertical-align: middle;\n    }\n\n    .dataframe tbody tr th {\n        vertical-align: top;\n    }\n\n    .dataframe thead th {\n        text-align: right;\n    }\n</style>\n<table border=\"1\" class=\"dataframe\">\n  <thead>\n    <tr style=\"text-align: right;\">\n      <th></th>\n      <th>group_x</th>\n      <th>age</th>\n      <th>salary_x</th>\n      <th>group_y</th>\n      <th>salary_y</th>\n    </tr>\n  </thead>\n  <tbody>\n    <tr>\n      <th>0</th>\n      <td>x</td>\n      <td>18</td>\n      <td>48</td>\n      <td>x</td>\n      <td>18</td>\n    </tr>\n    <tr>\n      <th>1</th>\n      <td>x</td>\n      <td>22</td>\n      <td>6</td>\n      <td>z</td>\n      <td>22</td>\n    </tr>\n  </tbody>\n</table>\n</div>"
     },
     "execution_count": 10,
     "metadata": {},
     "output_type": "execute_result"
    }
   ],
   "source": [
    "# 连接键类型，解决没有公共列问题\n",
    "\n",
    "pd.merge(data3,data2,left_on='age',right_on='salary')"
   ],
   "metadata": {
    "collapsed": false,
    "pycharm": {
     "name": "#%%\n"
    }
   }
  },
  {
   "cell_type": "code",
   "execution_count": 11,
   "outputs": [
    {
     "data": {
      "text/plain": "  group   age  salary\n0     y  45.0     NaN\n1     x  36.0     NaN\n2     y  17.0     NaN\n3     x  25.0     NaN\n4     z  42.0     NaN\n5     x  34.0     NaN\n6     x  26.0     NaN\n7     y  37.0     NaN\n8     x  44.0     NaN\n9     x  49.0     NaN\n0     x   NaN    18.0\n1     z   NaN    22.0\n2     z   NaN    47.0\n3     z   NaN    33.0\n4     x   NaN    41.0\n5     z   NaN    10.0\n6     y   NaN    42.0\n7     x   NaN    30.0\n8     z   NaN     7.0\n9     z   NaN    30.0",
      "text/html": "<div>\n<style scoped>\n    .dataframe tbody tr th:only-of-type {\n        vertical-align: middle;\n    }\n\n    .dataframe tbody tr th {\n        vertical-align: top;\n    }\n\n    .dataframe thead th {\n        text-align: right;\n    }\n</style>\n<table border=\"1\" class=\"dataframe\">\n  <thead>\n    <tr style=\"text-align: right;\">\n      <th></th>\n      <th>group</th>\n      <th>age</th>\n      <th>salary</th>\n    </tr>\n  </thead>\n  <tbody>\n    <tr>\n      <th>0</th>\n      <td>y</td>\n      <td>45.0</td>\n      <td>NaN</td>\n    </tr>\n    <tr>\n      <th>1</th>\n      <td>x</td>\n      <td>36.0</td>\n      <td>NaN</td>\n    </tr>\n    <tr>\n      <th>2</th>\n      <td>y</td>\n      <td>17.0</td>\n      <td>NaN</td>\n    </tr>\n    <tr>\n      <th>3</th>\n      <td>x</td>\n      <td>25.0</td>\n      <td>NaN</td>\n    </tr>\n    <tr>\n      <th>4</th>\n      <td>z</td>\n      <td>42.0</td>\n      <td>NaN</td>\n    </tr>\n    <tr>\n      <th>5</th>\n      <td>x</td>\n      <td>34.0</td>\n      <td>NaN</td>\n    </tr>\n    <tr>\n      <th>6</th>\n      <td>x</td>\n      <td>26.0</td>\n      <td>NaN</td>\n    </tr>\n    <tr>\n      <th>7</th>\n      <td>y</td>\n      <td>37.0</td>\n      <td>NaN</td>\n    </tr>\n    <tr>\n      <th>8</th>\n      <td>x</td>\n      <td>44.0</td>\n      <td>NaN</td>\n    </tr>\n    <tr>\n      <th>9</th>\n      <td>x</td>\n      <td>49.0</td>\n      <td>NaN</td>\n    </tr>\n    <tr>\n      <th>0</th>\n      <td>x</td>\n      <td>NaN</td>\n      <td>18.0</td>\n    </tr>\n    <tr>\n      <th>1</th>\n      <td>z</td>\n      <td>NaN</td>\n      <td>22.0</td>\n    </tr>\n    <tr>\n      <th>2</th>\n      <td>z</td>\n      <td>NaN</td>\n      <td>47.0</td>\n    </tr>\n    <tr>\n      <th>3</th>\n      <td>z</td>\n      <td>NaN</td>\n      <td>33.0</td>\n    </tr>\n    <tr>\n      <th>4</th>\n      <td>x</td>\n      <td>NaN</td>\n      <td>41.0</td>\n    </tr>\n    <tr>\n      <th>5</th>\n      <td>z</td>\n      <td>NaN</td>\n      <td>10.0</td>\n    </tr>\n    <tr>\n      <th>6</th>\n      <td>y</td>\n      <td>NaN</td>\n      <td>42.0</td>\n    </tr>\n    <tr>\n      <th>7</th>\n      <td>x</td>\n      <td>NaN</td>\n      <td>30.0</td>\n    </tr>\n    <tr>\n      <th>8</th>\n      <td>z</td>\n      <td>NaN</td>\n      <td>7.0</td>\n    </tr>\n    <tr>\n      <th>9</th>\n      <td>z</td>\n      <td>NaN</td>\n      <td>30.0</td>\n    </tr>\n  </tbody>\n</table>\n</div>"
     },
     "execution_count": 11,
     "metadata": {},
     "output_type": "execute_result"
    }
   ],
   "source": [
    "# 纵向连接\n",
    "pd.concat([data1,data2])"
   ],
   "metadata": {
    "collapsed": false,
    "pycharm": {
     "name": "#%%\n"
    }
   }
  },
  {
   "cell_type": "code",
   "execution_count": null,
   "outputs": [],
   "source": [
    "\n"
   ],
   "metadata": {
    "collapsed": false,
    "pycharm": {
     "name": "#%%\n"
    }
   }
  }
 ],
 "metadata": {
  "kernelspec": {
   "display_name": "Python 3",
   "language": "python",
   "name": "python3"
  },
  "language_info": {
   "codemirror_mode": {
    "name": "ipython",
    "version": 2
   },
   "file_extension": ".py",
   "mimetype": "text/x-python",
   "name": "python",
   "nbconvert_exporter": "python",
   "pygments_lexer": "ipython2",
   "version": "2.7.6"
  }
 },
 "nbformat": 4,
 "nbformat_minor": 0
}