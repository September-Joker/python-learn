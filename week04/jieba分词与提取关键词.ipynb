{
 "cells": [
  {
   "cell_type": "code",
   "execution_count": 1,
   "metadata": {
    "collapsed": true
   },
   "outputs": [],
   "source": [
    "import jieba"
   ]
  },
  {
   "cell_type": "code",
   "execution_count": 2,
   "outputs": [],
   "source": [
    "strings=['我来自极客大学','python进阶训练营真好玩']"
   ],
   "metadata": {
    "collapsed": false,
    "pycharm": {
     "name": "#%%\n"
    }
   }
  },
  {
   "cell_type": "code",
   "execution_count": 3,
   "outputs": [
    {
     "name": "stderr",
     "output_type": "stream",
     "text": [
      "Building prefix dict from the default dictionary ...\n",
      "Dumping model to file cache C:\\Users\\ADMINI~1\\AppData\\Local\\Temp\\jieba.cache\n",
      "Loading model cost 1.557 seconds.\n",
      "Prefix dict has been built successfully.\n"
     ]
    },
    {
     "name": "stdout",
     "output_type": "stream",
     "text": [
      "Default Mode: 我/来自/极客/大学\n",
      "Default Mode: python/进阶/训练营/真好玩\n"
     ]
    }
   ],
   "source": [
    "# 精确模式\n",
    "for string in strings:\n",
    "    result=jieba.cut(string,cut_all=False)\n",
    "    print('Default Mode: '+'/'.join(list(result)))"
   ],
   "metadata": {
    "collapsed": false,
    "pycharm": {
     "name": "#%%\n"
    }
   }
  },
  {
   "cell_type": "code",
   "execution_count": 4,
   "outputs": [
    {
     "name": "stdout",
     "output_type": "stream",
     "text": [
      "Default Mode: 我/来自/极/客/大学\n",
      "Default Mode: python/进阶/训练/训练营/真好/真好玩/好玩\n"
     ]
    }
   ],
   "source": [
    "# 全模式\n",
    "for string in strings:\n",
    "    result=jieba.cut(string,cut_all=True)\n",
    "    print('Default Mode: '+'/'.join(list(result)))"
   ],
   "metadata": {
    "collapsed": false,
    "pycharm": {
     "name": "#%%\n"
    }
   }
  },
  {
   "cell_type": "code",
   "execution_count": 5,
   "outputs": [
    {
     "name": "stdout",
     "output_type": "stream",
     "text": [
      "钟南山/院士/接受/采访/新冠/不会/二次/爆发\n"
     ]
    }
   ],
   "source": [
    "result=jieba.cut('钟南山院士接受采访新冠不会二次爆发')\n",
    "print('/'.join(list(result)))"
   ],
   "metadata": {
    "collapsed": false,
    "pycharm": {
     "name": "#%%\n"
    }
   }
  },
  {
   "cell_type": "code",
   "execution_count": 6,
   "outputs": [
    {
     "name": "stdout",
     "output_type": "stream",
     "text": [
      "Search Mode: 小明/硕士/毕业/于/中国/科学/学院/科学院/中国科学院/计算/计算所/，/后/在/日本/东京/大学/日本东京大学/深造\n"
     ]
    }
   ],
   "source": [
    "result=jieba.cut_for_search('小明硕士毕业于中国科学院计算所，后在日本东京大学深造')\n",
    "print('Search Mode: '+'/'.join(list(result)))"
   ],
   "metadata": {
    "collapsed": false,
    "pycharm": {
     "name": "#%%\n"
    }
   }
  },
  {
   "cell_type": "code",
   "execution_count": 19,
   "outputs": [
    {
     "data": {
      "text/plain": "[('数学', 1.0434221803894737),\n ('基础', 1.0027853906357895),\n ('学习', 0.6081178754642105),\n ('从头到尾', 0.501643673658421),\n ('来不及', 0.3817362778110526)]"
     },
     "execution_count": 19,
     "metadata": {},
     "output_type": "execute_result"
    }
   ],
   "source": [
    "import jieba.analyse\n",
    "\n",
    "text='机器学习，需要一定的数学基础，需要掌握的数学基础特别多，如果从头到尾开始学，估计大部分人来不及,我建议先学习最基础的数学基础'\n",
    "\n",
    "tfidf=jieba.analyse.tfidf(text,topK=5,withWeight=True)\n",
    "\n",
    "tfidf"
   ],
   "metadata": {
    "collapsed": false,
    "pycharm": {
     "name": "#%%\n"
    }
   }
  },
  {
   "cell_type": "code",
   "execution_count": 10,
   "outputs": [
    {
     "data": {
      "text/plain": "['基础', '数学', '需要', '估计', '学习']"
     },
     "execution_count": 10,
     "metadata": {},
     "output_type": "execute_result"
    }
   ],
   "source": [
    "textrank=jieba.analyse.textrank(text,topK=5,withWeight=False)\n",
    "\n",
    "textrank"
   ],
   "metadata": {
    "collapsed": false,
    "pycharm": {
     "name": "#%%\n"
    }
   }
  },
  {
   "cell_type": "code",
   "execution_count": 14,
   "outputs": [
    {
     "data": {
      "text/plain": "['基础', '数学', '学习', '估计', '建议']"
     },
     "execution_count": 14,
     "metadata": {},
     "output_type": "execute_result"
    }
   ],
   "source": [
    "# 结束词\n",
    "stop_words=r'./stop_words.txt'\n",
    "\n",
    "jieba.analyse.set_stop_words(stop_words)\n",
    "\n",
    "text_rank=jieba.analyse.textrank(text,topK=5,withWeight=False)\n",
    "\n",
    "text_rank"
   ],
   "metadata": {
    "collapsed": false,
    "pycharm": {
     "name": "#%%\n"
    }
   }
  },
  {
   "cell_type": "code",
   "execution_count": 17,
   "outputs": [
    {
     "name": "stdout",
     "output_type": "stream",
     "text": [
      "自定义：极客/大学/python进阶训练营/真好玩\n"
     ]
    }
   ],
   "source": [
    "# 用户词典\n",
    "\n",
    "string_2='极客大学python进阶训练营真好玩'\n",
    "\n",
    "user_dict=r'./user_dict.txt'\n",
    "\n",
    "jieba.load_userdict(user_dict)\n",
    "\n",
    "result=jieba.cut(string_2,cut_all=False)\n",
    "\n",
    "print('自定义：'+'/'.join(list(result)))"
   ],
   "metadata": {
    "collapsed": false,
    "pycharm": {
     "name": "#%%\n"
    }
   }
  },
  {
   "cell_type": "code",
   "execution_count": 18,
   "outputs": [
    {
     "name": "stdout",
     "output_type": "stream",
     "text": [
      "自定义：极客大学/python进阶训练营/真好玩\n"
     ]
    }
   ],
   "source": [
    "# 动态添加词典\n",
    "jieba.add_word('极客大学')\n",
    "\n",
    "# 动态删除词典\n",
    "jieba.del_word('自定义词')\n",
    "\n",
    "\n",
    "result=jieba.cut(string_2,cut_all=False)\n",
    "\n",
    "print('自定义：'+'/'.join(list(result)))"
   ],
   "metadata": {
    "collapsed": false,
    "pycharm": {
     "name": "#%%\n"
    }
   }
  },
  {
   "cell_type": "code",
   "execution_count": null,
   "outputs": [],
   "source": [
    "\n"
   ],
   "metadata": {
    "collapsed": false,
    "pycharm": {
     "name": "#%%\n"
    }
   }
  }
 ],
 "metadata": {
  "kernelspec": {
   "display_name": "Python 3",
   "language": "python",
   "name": "python3"
  },
  "language_info": {
   "codemirror_mode": {
    "name": "ipython",
    "version": 2
   },
   "file_extension": ".py",
   "mimetype": "text/x-python",
   "name": "python",
   "nbconvert_exporter": "python",
   "pygments_lexer": "ipython2",
   "version": "2.7.6"
  }
 },
 "nbformat": 4,
 "nbformat_minor": 0
}