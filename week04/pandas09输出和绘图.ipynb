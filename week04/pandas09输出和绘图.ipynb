{
 "cells": [
  {
   "cell_type": "code",
   "execution_count": 9,
   "metadata": {
    "collapsed": true
   },
   "outputs": [],
   "source": [
    "import pandas as pd\n",
    "import numpy as np\n",
    "import openpyxl"
   ]
  },
  {
   "cell_type": "code",
   "execution_count": 13,
   "outputs": [],
   "source": [
    "# 导出为.xlsx文件\n",
    "group=['x','y','z']\n",
    "\n",
    "data1=pd.DataFrame({\n",
    "    'group':[group[x] for x in np.random.randint(0,len(group),10)],\n",
    "    'age':np.random.randint(15,50,10)\n",
    "})\n",
    "\n",
    "data1.to_excel(excel_writer=r'file.xlsx')"
   ],
   "metadata": {
    "collapsed": false,
    "pycharm": {
     "name": "#%%\n"
    }
   }
  },
  {
   "cell_type": "code",
   "execution_count": 14,
   "outputs": [],
   "source": [
    "# 设置sheet名称\n",
    "data1.to_excel(excel_writer=r'file1.xlsx',sheet_name='sheet01')\n",
    "\n",
    "\n"
   ],
   "metadata": {
    "collapsed": false,
    "pycharm": {
     "name": "#%%\n"
    }
   }
  },
  {
   "cell_type": "code",
   "execution_count": 15,
   "outputs": [],
   "source": [
    "# 设置索引，设置参数index=False就可以在导出时把这种索引去掉\n",
    "data1.to_excel(excel_writer=r'file2.xlsx',sheet_name='sheet01',index=False)"
   ],
   "metadata": {
    "collapsed": false,
    "pycharm": {
     "name": "#%%\n"
    }
   }
  },
  {
   "cell_type": "code",
   "execution_count": 17,
   "outputs": [],
   "source": [
    "# 设置要导出的列\n",
    "# data1.to_excel(excel_writer=r'file3.xlsx',sheet_name='sheet01',index=False,columns=['col1','col2'])\n"
   ],
   "metadata": {
    "collapsed": false,
    "pycharm": {
     "name": "#%%\n"
    }
   }
  },
  {
   "cell_type": "code",
   "execution_count": 18,
   "outputs": [],
   "source": [
    "# 画图"
   ],
   "metadata": {
    "collapsed": false,
    "pycharm": {
     "name": "#%%\n"
    }
   }
  },
  {
   "cell_type": "code",
   "execution_count": 19,
   "outputs": [
    {
     "data": {
      "text/plain": "                   A         B         C         D\n2020-01-01 -1.347416 -0.140009 -1.383011  1.537925\n2020-01-02  0.842611 -1.032400 -0.087724 -0.258608\n2020-01-03  0.629868 -1.056023  0.231880 -0.688523\n2020-01-04 -0.591573  0.360055 -1.186472 -1.807895\n2020-01-05  0.651858 -0.827367  0.594058 -0.385594\n2020-01-06 -1.088077 -1.058495 -0.930947 -1.601633\n2020-01-07  1.272879 -0.549668  0.807075 -0.196238\n2020-01-08  1.919523 -0.821458  1.686810 -1.238797\n2020-01-09  1.284778 -1.076448 -0.735730 -0.201967\n2020-01-10  1.324141 -0.684418 -0.121695  0.475890\n2020-01-11  0.546586 -0.858883  0.683163 -1.064376\n2020-01-12  1.046890 -1.317604  0.423001 -1.030426",
      "text/html": "<div>\n<style scoped>\n    .dataframe tbody tr th:only-of-type {\n        vertical-align: middle;\n    }\n\n    .dataframe tbody tr th {\n        vertical-align: top;\n    }\n\n    .dataframe thead th {\n        text-align: right;\n    }\n</style>\n<table border=\"1\" class=\"dataframe\">\n  <thead>\n    <tr style=\"text-align: right;\">\n      <th></th>\n      <th>A</th>\n      <th>B</th>\n      <th>C</th>\n      <th>D</th>\n    </tr>\n  </thead>\n  <tbody>\n    <tr>\n      <th>2020-01-01</th>\n      <td>-1.347416</td>\n      <td>-0.140009</td>\n      <td>-1.383011</td>\n      <td>1.537925</td>\n    </tr>\n    <tr>\n      <th>2020-01-02</th>\n      <td>0.842611</td>\n      <td>-1.032400</td>\n      <td>-0.087724</td>\n      <td>-0.258608</td>\n    </tr>\n    <tr>\n      <th>2020-01-03</th>\n      <td>0.629868</td>\n      <td>-1.056023</td>\n      <td>0.231880</td>\n      <td>-0.688523</td>\n    </tr>\n    <tr>\n      <th>2020-01-04</th>\n      <td>-0.591573</td>\n      <td>0.360055</td>\n      <td>-1.186472</td>\n      <td>-1.807895</td>\n    </tr>\n    <tr>\n      <th>2020-01-05</th>\n      <td>0.651858</td>\n      <td>-0.827367</td>\n      <td>0.594058</td>\n      <td>-0.385594</td>\n    </tr>\n    <tr>\n      <th>2020-01-06</th>\n      <td>-1.088077</td>\n      <td>-1.058495</td>\n      <td>-0.930947</td>\n      <td>-1.601633</td>\n    </tr>\n    <tr>\n      <th>2020-01-07</th>\n      <td>1.272879</td>\n      <td>-0.549668</td>\n      <td>0.807075</td>\n      <td>-0.196238</td>\n    </tr>\n    <tr>\n      <th>2020-01-08</th>\n      <td>1.919523</td>\n      <td>-0.821458</td>\n      <td>1.686810</td>\n      <td>-1.238797</td>\n    </tr>\n    <tr>\n      <th>2020-01-09</th>\n      <td>1.284778</td>\n      <td>-1.076448</td>\n      <td>-0.735730</td>\n      <td>-0.201967</td>\n    </tr>\n    <tr>\n      <th>2020-01-10</th>\n      <td>1.324141</td>\n      <td>-0.684418</td>\n      <td>-0.121695</td>\n      <td>0.475890</td>\n    </tr>\n    <tr>\n      <th>2020-01-11</th>\n      <td>0.546586</td>\n      <td>-0.858883</td>\n      <td>0.683163</td>\n      <td>-1.064376</td>\n    </tr>\n    <tr>\n      <th>2020-01-12</th>\n      <td>1.046890</td>\n      <td>-1.317604</td>\n      <td>0.423001</td>\n      <td>-1.030426</td>\n    </tr>\n  </tbody>\n</table>\n</div>"
     },
     "execution_count": 19,
     "metadata": {},
     "output_type": "execute_result"
    }
   ],
   "source": [
    "dates=pd.date_range('20200101',periods=12)\n",
    "df=pd.DataFrame(np.random.randn(12,4),index=dates,columns=list('ABCD'))\n",
    "df"
   ],
   "metadata": {
    "collapsed": false,
    "pycharm": {
     "name": "#%%\n"
    }
   }
  },
  {
   "cell_type": "code",
   "execution_count": 20,
   "outputs": [],
   "source": [
    "import matplotlib.pyplot as plt\n",
    "\n"
   ],
   "metadata": {
    "collapsed": false,
    "pycharm": {
     "name": "#%%\n"
    }
   }
  },
  {
   "cell_type": "code",
   "execution_count": 22,
   "outputs": [
    {
     "data": {
      "text/plain": "<Figure size 432x288 with 1 Axes>",
      "image/png": "[encoded data removed]"
     },
     "metadata": {
      "needs_background": "light"
     },
     "output_type": "display_data"
    }
   ],
   "source": [
    "plt.plot(df.index,df[\"A\"])\n",
    "plt.show()"
   ],
   "metadata": {
    "collapsed": false,
    "pycharm": {
     "name": "#%%\n"
    }
   }
  },
  {
   "cell_type": "code",
   "execution_count": 23,
   "outputs": [
    {
     "data": {
      "text/plain": "<Figure size 432x288 with 1 Axes>",
      "image/png": "[encoded data removed]"
     },
     "metadata": {
      "needs_background": "light"
     },
     "output_type": "display_data"
    }
   ],
   "source": [
    "plt.plot(df.index,df[\"A\"],color='#FA0',linestyle='--',linewidth=3,marker='D')\n",
    "plt.show()"
   ],
   "metadata": {
    "collapsed": false,
    "pycharm": {
     "name": "#%%\n"
    }
   }
  },
  {
   "cell_type": "code",
   "execution_count": 24,
   "outputs": [],
   "source": [
    "import seaborn as sns"
   ],
   "metadata": {
    "collapsed": false,
    "pycharm": {
     "name": "#%%\n"
    }
   }
  },
  {
   "cell_type": "code",
   "execution_count": 25,
   "outputs": [
    {
     "data": {
      "text/plain": "<matplotlib.collections.PathCollection at 0x1a1ffb51788>"
     },
     "execution_count": 25,
     "metadata": {},
     "output_type": "execute_result"
    },
    {
     "data": {
      "text/plain": "<Figure size 432x288 with 1 Axes>",
      "image/png": "[encoded data removed]"
     },
     "metadata": {
      "needs_background": "light"
     },
     "output_type": "display_data"
    }
   ],
   "source": [
    "plt.scatter(df.index,df[\"A\"])"
   ],
   "metadata": {
    "collapsed": false,
    "pycharm": {
     "name": "#%%\n"
    }
   }
  },
  {
   "cell_type": "code",
   "execution_count": 26,
   "outputs": [
    {
     "data": {
      "text/plain": "<matplotlib.collections.PathCollection at 0x1a1ffa92b08>"
     },
     "execution_count": 26,
     "metadata": {},
     "output_type": "execute_result"
    },
    {
     "data": {
      "text/plain": "<Figure size 432x288 with 1 Axes>",
      "image/png": "[encoded data removed]"
     },
     "metadata": {},
     "output_type": "display_data"
    }
   ],
   "source": [
    "# 美化plt\n",
    "sns.set_style('darkgrid')\n",
    "plt.scatter(df.index,df['A'])"
   ],
   "metadata": {
    "collapsed": false,
    "pycharm": {
     "name": "#%%\n"
    }
   }
  },
  {
   "cell_type": "code",
   "execution_count": null,
   "outputs": [],
   "source": [
    "\n"
   ],
   "metadata": {
    "collapsed": false,
    "pycharm": {
     "name": "#%%\n"
    }
   }
  }
 ],
 "metadata": {
  "kernelspec": {
   "display_name": "Python 3",
   "language": "python",
   "name": "python3"
  },
  "language_info": {
   "codemirror_mode": {
    "name": "ipython",
    "version": 2
   },
   "file_extension": ".py",
   "mimetype": "text/x-python",
   "name": "python",
   "nbconvert_exporter": "python",
   "pygments_lexer": "ipython2",
   "version": "2.7.6"
  }
 },
 "nbformat": 4,
 "nbformat_minor": 0
}