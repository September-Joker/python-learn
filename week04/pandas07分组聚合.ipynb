{
 "cells": [
  {
   "cell_type": "code",
   "execution_count": 1,
   "metadata": {
    "collapsed": true
   },
   "outputs": [],
   "source": [
    "import pandas as pd\n",
    "import numpy as np"
   ]
  },
  {
   "cell_type": "code",
   "execution_count": 2,
   "outputs": [
    {
     "data": {
      "text/plain": "    account type  Jan  Feb  Mar\n0  Jone LLC    a  150  200  140\n1  Alpha Co    b  200  210  215\n2  Blue Inc    a   50   90   95",
      "text/html": "<div>\n<style scoped>\n    .dataframe tbody tr th:only-of-type {\n        vertical-align: middle;\n    }\n\n    .dataframe tbody tr th {\n        vertical-align: top;\n    }\n\n    .dataframe thead th {\n        text-align: right;\n    }\n</style>\n<table border=\"1\" class=\"dataframe\">\n  <thead>\n    <tr style=\"text-align: right;\">\n      <th></th>\n      <th>account</th>\n      <th>type</th>\n      <th>Jan</th>\n      <th>Feb</th>\n      <th>Mar</th>\n    </tr>\n  </thead>\n  <tbody>\n    <tr>\n      <th>0</th>\n      <td>Jone LLC</td>\n      <td>a</td>\n      <td>150</td>\n      <td>200</td>\n      <td>140</td>\n    </tr>\n    <tr>\n      <th>1</th>\n      <td>Alpha Co</td>\n      <td>b</td>\n      <td>200</td>\n      <td>210</td>\n      <td>215</td>\n    </tr>\n    <tr>\n      <th>2</th>\n      <td>Blue Inc</td>\n      <td>a</td>\n      <td>50</td>\n      <td>90</td>\n      <td>95</td>\n    </tr>\n  </tbody>\n</table>\n</div>"
     },
     "execution_count": 2,
     "metadata": {},
     "output_type": "execute_result"
    }
   ],
   "source": [
    "# 聚合\n",
    "sales=[{'account':'Jone LLC','type':'a','Jan':150,'Feb':200,'Mar':140},\n",
    "       {'account':'Alpha Co','type':'b','Jan':200,'Feb':210,'Mar':215},\n",
    "       {'account':'Blue Inc','type':'a','Jan':50,'Feb':90,'Mar':95}]\n",
    "\n",
    "df1=pd.DataFrame(sales)\n",
    "\n",
    "df1"
   ],
   "metadata": {
    "collapsed": false,
    "pycharm": {
     "name": "#%%\n"
    }
   }
  },
  {
   "cell_type": "code",
   "execution_count": 3,
   "outputs": [
    {
     "data": {
      "text/plain": "{'a': Int64Index([0, 2], dtype='int64'), 'b': Int64Index([1], dtype='int64')}"
     },
     "execution_count": 3,
     "metadata": {},
     "output_type": "execute_result"
    }
   ],
   "source": [
    "df1.groupby('type').groups\n",
    "\n"
   ],
   "metadata": {
    "collapsed": false,
    "pycharm": {
     "name": "#%%\n"
    }
   }
  },
  {
   "cell_type": "code",
   "execution_count": 4,
   "outputs": [
    {
     "name": "stdout",
     "output_type": "stream",
     "text": [
      "a\n",
      "    account type  Jan  Feb  Mar\n",
      "0  Jone LLC    a  150  200  140\n",
      "2  Blue Inc    a   50   90   95\n",
      "b\n",
      "    account type  Jan  Feb  Mar\n",
      "1  Alpha Co    b  200  210  215\n"
     ]
    }
   ],
   "source": [
    "for a,b in df1.groupby('type'):\n",
    "    print(a)\n",
    "    print(b)"
   ],
   "metadata": {
    "collapsed": false,
    "pycharm": {
     "name": "#%%\n"
    }
   }
  },
  {
   "cell_type": "code",
   "execution_count": 5,
   "outputs": [
    {
     "data": {
      "text/plain": "      account  Jan  Feb  Mar\ntype                        \na           2    2    2    2\nb           1    1    1    1",
      "text/html": "<div>\n<style scoped>\n    .dataframe tbody tr th:only-of-type {\n        vertical-align: middle;\n    }\n\n    .dataframe tbody tr th {\n        vertical-align: top;\n    }\n\n    .dataframe thead th {\n        text-align: right;\n    }\n</style>\n<table border=\"1\" class=\"dataframe\">\n  <thead>\n    <tr style=\"text-align: right;\">\n      <th></th>\n      <th>account</th>\n      <th>Jan</th>\n      <th>Feb</th>\n      <th>Mar</th>\n    </tr>\n    <tr>\n      <th>type</th>\n      <th></th>\n      <th></th>\n      <th></th>\n      <th></th>\n    </tr>\n  </thead>\n  <tbody>\n    <tr>\n      <th>a</th>\n      <td>2</td>\n      <td>2</td>\n      <td>2</td>\n      <td>2</td>\n    </tr>\n    <tr>\n      <th>b</th>\n      <td>1</td>\n      <td>1</td>\n      <td>1</td>\n      <td>1</td>\n    </tr>\n  </tbody>\n</table>\n</div>"
     },
     "execution_count": 5,
     "metadata": {},
     "output_type": "execute_result"
    }
   ],
   "source": [
    "# 聚合后再计算\n",
    "df1.groupby('type').count()"
   ],
   "metadata": {
    "collapsed": false,
    "pycharm": {
     "name": "#%%\n"
    }
   }
  },
  {
   "cell_type": "code",
   "execution_count": 13,
   "outputs": [
    {
     "data": {
      "text/plain": "     account  type  Feb  Mar\nJan                         \n50         1     1    1    1\n150        1     1    1    1\n200        1     1    1    1",
      "text/html": "<div>\n<style scoped>\n    .dataframe tbody tr th:only-of-type {\n        vertical-align: middle;\n    }\n\n    .dataframe tbody tr th {\n        vertical-align: top;\n    }\n\n    .dataframe thead th {\n        text-align: right;\n    }\n</style>\n<table border=\"1\" class=\"dataframe\">\n  <thead>\n    <tr style=\"text-align: right;\">\n      <th></th>\n      <th>account</th>\n      <th>type</th>\n      <th>Feb</th>\n      <th>Mar</th>\n    </tr>\n    <tr>\n      <th>Jan</th>\n      <th></th>\n      <th></th>\n      <th></th>\n      <th></th>\n    </tr>\n  </thead>\n  <tbody>\n    <tr>\n      <th>50</th>\n      <td>1</td>\n      <td>1</td>\n      <td>1</td>\n      <td>1</td>\n    </tr>\n    <tr>\n      <th>150</th>\n      <td>1</td>\n      <td>1</td>\n      <td>1</td>\n      <td>1</td>\n    </tr>\n    <tr>\n      <th>200</th>\n      <td>1</td>\n      <td>1</td>\n      <td>1</td>\n      <td>1</td>\n    </tr>\n  </tbody>\n</table>\n</div>"
     },
     "execution_count": 13,
     "metadata": {},
     "output_type": "execute_result"
    }
   ],
   "source": [
    "df1.groupby('Jan').count()"
   ],
   "metadata": {
    "collapsed": false,
    "pycharm": {
     "name": "#%%\n"
    }
   }
  },
  {
   "cell_type": "code",
   "execution_count": 12,
   "outputs": [],
   "source": [
    "\n",
    "group=['x','y','z']\n",
    "\n",
    "data=pd.DataFrame(\n",
    "    {\n",
    "        'group':[group[x] for x in np.random.randint(0,len(group),10)],\n",
    "        'salary':np.random.randint(5,50,10),\n",
    "        'age':np.random.randint(15,50,10)\n",
    "    }\n",
    ")"
   ],
   "metadata": {
    "collapsed": false,
    "pycharm": {
     "name": "#%%\n"
    }
   }
  },
  {
   "cell_type": "code",
   "execution_count": 9,
   "outputs": [
    {
     "data": {
      "text/plain": "          salary        age\ngroup                      \nx      29.500000  36.750000\ny      16.333333  25.333333\nz      33.333333  20.333333",
      "text/html": "<div>\n<style scoped>\n    .dataframe tbody tr th:only-of-type {\n        vertical-align: middle;\n    }\n\n    .dataframe tbody tr th {\n        vertical-align: top;\n    }\n\n    .dataframe thead th {\n        text-align: right;\n    }\n</style>\n<table border=\"1\" class=\"dataframe\">\n  <thead>\n    <tr style=\"text-align: right;\">\n      <th></th>\n      <th>salary</th>\n      <th>age</th>\n    </tr>\n    <tr>\n      <th>group</th>\n      <th></th>\n      <th></th>\n    </tr>\n  </thead>\n  <tbody>\n    <tr>\n      <th>x</th>\n      <td>29.500000</td>\n      <td>36.750000</td>\n    </tr>\n    <tr>\n      <th>y</th>\n      <td>16.333333</td>\n      <td>25.333333</td>\n    </tr>\n    <tr>\n      <th>z</th>\n      <td>33.333333</td>\n      <td>20.333333</td>\n    </tr>\n  </tbody>\n</table>\n</div>"
     },
     "execution_count": 9,
     "metadata": {},
     "output_type": "execute_result"
    }
   ],
   "source": [
    "data.groupby('group').agg('mean')\n",
    "\n"
   ],
   "metadata": {
    "collapsed": false,
    "pycharm": {
     "name": "#%%\n"
    }
   }
  },
  {
   "cell_type": "code",
   "execution_count": 10,
   "outputs": [
    {
     "data": {
      "text/plain": "{'salary': {'x': 29.5, 'y': 16.333333333333332, 'z': 33.333333333333336},\n 'age': {'x': 36.75, 'y': 25.333333333333332, 'z': 20.333333333333332}}"
     },
     "execution_count": 10,
     "metadata": {},
     "output_type": "execute_result"
    }
   ],
   "source": [
    "data.groupby('group').mean().to_dict()"
   ],
   "metadata": {
    "collapsed": false,
    "pycharm": {
     "name": "#%%\n"
    }
   }
  },
  {
   "cell_type": "code",
   "execution_count": 11,
   "outputs": [
    {
     "data": {
      "text/plain": "      salary        age\n0  33.333333  20.333333\n1  16.333333  25.333333\n2  16.333333  25.333333\n3  29.500000  36.750000\n4  33.333333  20.333333\n5  33.333333  20.333333\n6  29.500000  36.750000\n7  16.333333  25.333333\n8  29.500000  36.750000\n9  29.500000  36.750000",
      "text/html": "<div>\n<style scoped>\n    .dataframe tbody tr th:only-of-type {\n        vertical-align: middle;\n    }\n\n    .dataframe tbody tr th {\n        vertical-align: top;\n    }\n\n    .dataframe thead th {\n        text-align: right;\n    }\n</style>\n<table border=\"1\" class=\"dataframe\">\n  <thead>\n    <tr style=\"text-align: right;\">\n      <th></th>\n      <th>salary</th>\n      <th>age</th>\n    </tr>\n  </thead>\n  <tbody>\n    <tr>\n      <th>0</th>\n      <td>33.333333</td>\n      <td>20.333333</td>\n    </tr>\n    <tr>\n      <th>1</th>\n      <td>16.333333</td>\n      <td>25.333333</td>\n    </tr>\n    <tr>\n      <th>2</th>\n      <td>16.333333</td>\n      <td>25.333333</td>\n    </tr>\n    <tr>\n      <th>3</th>\n      <td>29.500000</td>\n      <td>36.750000</td>\n    </tr>\n    <tr>\n      <th>4</th>\n      <td>33.333333</td>\n      <td>20.333333</td>\n    </tr>\n    <tr>\n      <th>5</th>\n      <td>33.333333</td>\n      <td>20.333333</td>\n    </tr>\n    <tr>\n      <th>6</th>\n      <td>29.500000</td>\n      <td>36.750000</td>\n    </tr>\n    <tr>\n      <th>7</th>\n      <td>16.333333</td>\n      <td>25.333333</td>\n    </tr>\n    <tr>\n      <th>8</th>\n      <td>29.500000</td>\n      <td>36.750000</td>\n    </tr>\n    <tr>\n      <th>9</th>\n      <td>29.500000</td>\n      <td>36.750000</td>\n    </tr>\n  </tbody>\n</table>\n</div>"
     },
     "execution_count": 11,
     "metadata": {},
     "output_type": "execute_result"
    }
   ],
   "source": [
    "data.groupby('group').transform('mean')"
   ],
   "metadata": {
    "collapsed": false,
    "pycharm": {
     "name": "#%%\n"
    }
   }
  },
  {
   "cell_type": "code",
   "execution_count": 14,
   "outputs": [
    {
     "data": {
      "text/plain": "      type  Feb\ntype           \na        2  290\nb        1  210",
      "text/html": "<div>\n<style scoped>\n    .dataframe tbody tr th:only-of-type {\n        vertical-align: middle;\n    }\n\n    .dataframe tbody tr th {\n        vertical-align: top;\n    }\n\n    .dataframe thead th {\n        text-align: right;\n    }\n</style>\n<table border=\"1\" class=\"dataframe\">\n  <thead>\n    <tr style=\"text-align: right;\">\n      <th></th>\n      <th>type</th>\n      <th>Feb</th>\n    </tr>\n    <tr>\n      <th>type</th>\n      <th></th>\n      <th></th>\n    </tr>\n  </thead>\n  <tbody>\n    <tr>\n      <th>a</th>\n      <td>2</td>\n      <td>290</td>\n    </tr>\n    <tr>\n      <th>b</th>\n      <td>1</td>\n      <td>210</td>\n    </tr>\n  </tbody>\n</table>\n</div>"
     },
     "execution_count": 14,
     "metadata": {},
     "output_type": "execute_result"
    }
   ],
   "source": [
    "# 各类型产品的销售数量和销售总额\n",
    "\n",
    "df1.groupby('type').agg({'type':'count','Feb':'sum'})\n"
   ],
   "metadata": {
    "collapsed": false,
    "pycharm": {
     "name": "#%%\n"
    }
   }
  },
  {
   "cell_type": "code",
   "execution_count": 15,
   "outputs": [
    {
     "data": {
      "text/plain": "group  age    x    y    z  All\n0       15  NaN  NaN  1.0    1\n1       18  NaN  NaN  1.0    1\n2       21  NaN  NaN  1.0    1\n3       24  1.0  NaN  NaN    1\n4       26  NaN  1.0  NaN    1\n5       28  NaN  NaN  1.0    1\n6       29  NaN  NaN  1.0    1\n7       35  1.0  NaN  NaN    1\n8       39  NaN  NaN  1.0    1\n9       42  1.0  NaN  NaN    1\n10     All  3.0  1.0  6.0   10",
      "text/html": "<div>\n<style scoped>\n    .dataframe tbody tr th:only-of-type {\n        vertical-align: middle;\n    }\n\n    .dataframe tbody tr th {\n        vertical-align: top;\n    }\n\n    .dataframe thead th {\n        text-align: right;\n    }\n</style>\n<table border=\"1\" class=\"dataframe\">\n  <thead>\n    <tr style=\"text-align: right;\">\n      <th>group</th>\n      <th>age</th>\n      <th>x</th>\n      <th>y</th>\n      <th>z</th>\n      <th>All</th>\n    </tr>\n  </thead>\n  <tbody>\n    <tr>\n      <th>0</th>\n      <td>15</td>\n      <td>NaN</td>\n      <td>NaN</td>\n      <td>1.0</td>\n      <td>1</td>\n    </tr>\n    <tr>\n      <th>1</th>\n      <td>18</td>\n      <td>NaN</td>\n      <td>NaN</td>\n      <td>1.0</td>\n      <td>1</td>\n    </tr>\n    <tr>\n      <th>2</th>\n      <td>21</td>\n      <td>NaN</td>\n      <td>NaN</td>\n      <td>1.0</td>\n      <td>1</td>\n    </tr>\n    <tr>\n      <th>3</th>\n      <td>24</td>\n      <td>1.0</td>\n      <td>NaN</td>\n      <td>NaN</td>\n      <td>1</td>\n    </tr>\n    <tr>\n      <th>4</th>\n      <td>26</td>\n      <td>NaN</td>\n      <td>1.0</td>\n      <td>NaN</td>\n      <td>1</td>\n    </tr>\n    <tr>\n      <th>5</th>\n      <td>28</td>\n      <td>NaN</td>\n      <td>NaN</td>\n      <td>1.0</td>\n      <td>1</td>\n    </tr>\n    <tr>\n      <th>6</th>\n      <td>29</td>\n      <td>NaN</td>\n      <td>NaN</td>\n      <td>1.0</td>\n      <td>1</td>\n    </tr>\n    <tr>\n      <th>7</th>\n      <td>35</td>\n      <td>1.0</td>\n      <td>NaN</td>\n      <td>NaN</td>\n      <td>1</td>\n    </tr>\n    <tr>\n      <th>8</th>\n      <td>39</td>\n      <td>NaN</td>\n      <td>NaN</td>\n      <td>1.0</td>\n      <td>1</td>\n    </tr>\n    <tr>\n      <th>9</th>\n      <td>42</td>\n      <td>1.0</td>\n      <td>NaN</td>\n      <td>NaN</td>\n      <td>1</td>\n    </tr>\n    <tr>\n      <th>10</th>\n      <td>All</td>\n      <td>3.0</td>\n      <td>1.0</td>\n      <td>6.0</td>\n      <td>10</td>\n    </tr>\n  </tbody>\n</table>\n</div>"
     },
     "execution_count": 15,
     "metadata": {},
     "output_type": "execute_result"
    }
   ],
   "source": [
    "# 数据透视表\n",
    "pd.pivot_table(\n",
    "    data,\n",
    "    values='salary',\n",
    "    index='age',\n",
    "    columns='group',\n",
    "    aggfunc='count',\n",
    "    margins=True\n",
    ").reset_index()"
   ],
   "metadata": {
    "collapsed": false,
    "pycharm": {
     "name": "#%%\n"
    }
   }
  },
  {
   "cell_type": "code",
   "execution_count": 16,
   "outputs": [
    {
     "data": {
      "text/plain": "  group  salary  age\n0     z      33   29\n1     x      27   24\n2     z      32   39\n3     y      33   26\n4     z      49   21\n5     x      43   42\n6     x      35   35\n7     z      15   18\n8     z       8   15\n9     z      46   28",
      "text/html": "<div>\n<style scoped>\n    .dataframe tbody tr th:only-of-type {\n        vertical-align: middle;\n    }\n\n    .dataframe tbody tr th {\n        vertical-align: top;\n    }\n\n    .dataframe thead th {\n        text-align: right;\n    }\n</style>\n<table border=\"1\" class=\"dataframe\">\n  <thead>\n    <tr style=\"text-align: right;\">\n      <th></th>\n      <th>group</th>\n      <th>salary</th>\n      <th>age</th>\n    </tr>\n  </thead>\n  <tbody>\n    <tr>\n      <th>0</th>\n      <td>z</td>\n      <td>33</td>\n      <td>29</td>\n    </tr>\n    <tr>\n      <th>1</th>\n      <td>x</td>\n      <td>27</td>\n      <td>24</td>\n    </tr>\n    <tr>\n      <th>2</th>\n      <td>z</td>\n      <td>32</td>\n      <td>39</td>\n    </tr>\n    <tr>\n      <th>3</th>\n      <td>y</td>\n      <td>33</td>\n      <td>26</td>\n    </tr>\n    <tr>\n      <th>4</th>\n      <td>z</td>\n      <td>49</td>\n      <td>21</td>\n    </tr>\n    <tr>\n      <th>5</th>\n      <td>x</td>\n      <td>43</td>\n      <td>42</td>\n    </tr>\n    <tr>\n      <th>6</th>\n      <td>x</td>\n      <td>35</td>\n      <td>35</td>\n    </tr>\n    <tr>\n      <th>7</th>\n      <td>z</td>\n      <td>15</td>\n      <td>18</td>\n    </tr>\n    <tr>\n      <th>8</th>\n      <td>z</td>\n      <td>8</td>\n      <td>15</td>\n    </tr>\n    <tr>\n      <th>9</th>\n      <td>z</td>\n      <td>46</td>\n      <td>28</td>\n    </tr>\n  </tbody>\n</table>\n</div>"
     },
     "execution_count": 16,
     "metadata": {},
     "output_type": "execute_result"
    }
   ],
   "source": [
    "data"
   ],
   "metadata": {
    "collapsed": false,
    "pycharm": {
     "name": "#%%\n"
    }
   }
  },
  {
   "cell_type": "code",
   "execution_count": null,
   "outputs": [],
   "source": [
    "\n"
   ],
   "metadata": {
    "collapsed": false,
    "pycharm": {
     "name": "#%%\n"
    }
   }
  }
 ],
 "metadata": {
  "kernelspec": {
   "display_name": "Python 3",
   "language": "python",
   "name": "python3"
  },
  "language_info": {
   "codemirror_mode": {
    "name": "ipython",
    "version": 2
   },
   "file_extension": ".py",
   "mimetype": "text/x-python",
   "name": "python",
   "nbconvert_exporter": "python",
   "pygments_lexer": "ipython2",
   "version": "2.7.6"
  }
 },
 "nbformat": 4,
 "nbformat_minor": 0
}